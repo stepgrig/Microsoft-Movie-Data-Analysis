{
 "cells": [
  {
   "cell_type": "markdown",
   "id": "0e39b6bc",
   "metadata": {},
   "source": [
    "# Data Analysis"
   ]
  },
  {
   "cell_type": "markdown",
   "id": "eb9c027f",
   "metadata": {},
   "source": [
    "## Importing Relevant Libraries"
   ]
  },
  {
   "cell_type": "code",
   "execution_count": null,
   "id": "3f7b4ac6",
   "metadata": {},
   "outputs": [],
   "source": [
    "#importing relevant libraries\n",
    "import pandas as pd \n",
    "import numpy as np\n",
    "import matplotlib.pyplot as plt\n",
    "from matplotlib import ticker\n",
    "import seaborn as sns\n",
    "%matplotlib inline"
   ]
  },
  {
   "cell_type": "markdown",
   "id": "e1910cc4",
   "metadata": {},
   "source": [
    "## Opening Data\n",
    "- Opening cleaned datasets "
   ]
  },
  {
   "cell_type": "code",
   "execution_count": null,
   "id": "c3c08ad7",
   "metadata": {},
   "outputs": [],
   "source": [
    "movie_genres = pd.read_csv('zippedData/movie_genres_cleaned')\n",
    "movie_genres.head(2)"
   ]
  },
  {
   "cell_type": "code",
   "execution_count": null,
   "id": "c1ef8da7",
   "metadata": {},
   "outputs": [],
   "source": [
    "film_pop_profit = pd.read_csv('zippedData/cleaned_popularity_profit_data')\n",
    "film_pop_profit.head()"
   ]
  },
  {
   "cell_type": "markdown",
   "id": "bd693018",
   "metadata": {},
   "source": [
    "Before we go down for analysis, we would like to have the same understanding on these metrics:\n",
    "- ROI: returnn on investment (ROI = revenue/cost-1)\n",
    "- Production budget: production cost\n",
    "- Domestic gross: domestic revenue\n",
    "- International gross: Internaltion revenue\n",
    "- Worldwide gross:worldwide revenue\n",
    "- Domestic ROI: domestic return on investment\n",
    "- International ROI: Internaltion return on investment\n",
    "- Worldwide ROI:worldwide return on investment\n",
    "\n",
    "All of these metrics financial metrics are calculated in USD."
   ]
  },
  {
   "cell_type": "markdown",
   "id": "e6e524df",
   "metadata": {},
   "source": [
    "After cleaning data, we wanted to explore the highest grossing film genres by calculating the average values for worldwide profit. "
   ]
  },
  {
   "cell_type": "markdown",
   "id": "38206187",
   "metadata": {},
   "source": [
    "## 1. 1st Recommendation analysis"
   ]
  },
  {
   "cell_type": "code",
   "execution_count": null,
   "id": "6722ced0",
   "metadata": {},
   "outputs": [],
   "source": [
    "# calculated mean profit grouped by genre \n",
    "mean_profit_genre = movie_genres.groupby('each_genre').mean(numeric_only = True).sort_values('worldwide_profit',ascending = False)\n",
    "\n",
    "# formatted numeric columns for readability \n",
    "mean_profit_genre.style.format({'runtime_minutes': '{:,.2f}','production_budget': '{:,.2f}','domestic_gross': '{:,.2f}', 'worldwide_gross': '{:,.2f}', 'international_gross': '{:,.2f}',\n",
    "       'domestic_profit': '{:,.2f}','international_profit': '{:,.2f}','worldwide_profit': '{:,.2f}','domestic_ROI': '{:.2f}','international_ROI': '{:.2f}', 'worldwide_ROI': '{:.2f}'})\n",
    " "
   ]
  },
  {
   "cell_type": "markdown",
   "id": "75944765",
   "metadata": {},
   "source": [
    "Using a bar chart to show film genres by their worldwide profit"
   ]
  },
  {
   "cell_type": "code",
   "execution_count": null,
   "id": "6b179450",
   "metadata": {},
   "outputs": [],
   "source": [
    "# created bar charts mapping profit by genre \n",
    "x = mean_profit_genre.index\n",
    "y1 = mean_profit_genre['worldwide_profit']\n",
    "\n",
    "fig, ax1 = plt.subplots()\n",
    "\n",
    "# Bar chart\n",
    "ax1.bar(x, y1, color='orange')\n",
    "ax1.set_ylabel('Worldwide profit (hundred million USD)')\n",
    "\n",
    "#format a-axis tick & label:\n",
    "ax1.set_xticks(range(len(x)))\n",
    "ax1.set_xticklabels(x, rotation=90)\n",
    "ax1.yaxis.set_major_formatter(ticker.FuncFormatter(lambda x,pos: format(x/1000000,'1.0f')+'M'))\n",
    "\n",
    "ax1.set_title('Worldwide profit by genre');"
   ]
  },
  {
   "cell_type": "markdown",
   "id": "f9f7f929",
   "metadata": {},
   "source": [
    "Based on the bar chart, we identified the top four highest grossing genres worldwide to be (1) Animation, (2) Musical, (3) Sci-Fi, (4) Adventure"
   ]
  },
  {
   "cell_type": "code",
   "execution_count": null,
   "id": "d1d08fe8",
   "metadata": {},
   "outputs": [],
   "source": [
    "# verifying that new dataframe contains the top four highest grossing genres\n",
    "top4_genre_profit = mean_profit_genre.head(4)\n",
    "top4_genre_profit.style.format({'runtime_minutes': '{:,.2f}','production_budget': '{:,.2f}','domestic_gross': '{:,.2f}', 'worldwide_gross': '{:,.2f}', 'international_gross': '{:,.2f}',\n",
    "       'domestic_profit': '{:,.2f}','international_profit': '{:,.2f}','worldwide_profit': '{:,.2f}','domestic_ROI': '{:.2f}','international_ROI': '{:.2f}', 'worldwide_ROI': '{:.2f}'})"
   ]
  },
  {
   "cell_type": "code",
   "execution_count": null,
   "id": "e529e520",
   "metadata": {},
   "outputs": [],
   "source": [
    "# Created a list of top 4 genre list by worldwide profit:\n",
    "top4_genre_list = list(top4_genre_profit.index)\n",
    "top4_genre_list"
   ]
  },
  {
   "cell_type": "markdown",
   "id": "55378f4e",
   "metadata": {},
   "source": [
    "#### Recommendation 1 conclusion: focus on top 4 genres"
   ]
  },
  {
   "cell_type": "markdown",
   "id": "0349340e",
   "metadata": {},
   "source": [
    "## 2. 2nd recommendation analysis "
   ]
  },
  {
   "cell_type": "markdown",
   "id": "b4a07a8e",
   "metadata": {},
   "source": [
    "In order to have a more concrete understanding, it is important to create a new dataframe filtering out the top four highest grossing film genres for easier analysis. "
   ]
  },
  {
   "cell_type": "code",
   "execution_count": null,
   "id": "a67c02c7",
   "metadata": {},
   "outputs": [],
   "source": [
    "top4_genre_df = movie_genres.loc[movie_genres['each_genre'].isin(top4_genre_list)]\n",
    "# formatting numeric currency columns\n",
    "top4_genre_df.head().style.format({'runtime_minutes': '{:,.2f}','production_budget': '{:,.2f}','domestic_gross': '{:,.2f}', 'worldwide_gross': '{:,.2f}', 'international_gross': '{:,.2f}',\n",
    "       'domestic_profit': '{:,.2f}','international_profit': '{:,.2f}','worldwide_profit': '{:,.2f}','domestic_ROI': '{:.2f}','international_ROI': '{:.2f}', 'worldwide_ROI': '{:.2f}'})"
   ]
  },
  {
   "cell_type": "markdown",
   "id": "b74fc0f9",
   "metadata": {},
   "source": [
    "#### Analyzing the Relationship Between Production Budget and Worldwide ROI\n",
    "\n",
    "After identifying the highest grossing genres for films, we wanted to understand how to maximize worldwide profit. We then analyzed the relationship between worldwide ROI and production budget at specific intervals."
   ]
  },
  {
   "cell_type": "code",
   "execution_count": null,
   "id": "6304f892",
   "metadata": {},
   "outputs": [],
   "source": [
    "# Create intervals of production budget for plotting purposes:\n",
    "budget_interval = [0,20000000, 50000000, 100000000,200000000,300000000,400000000, float('inf')]\n",
    "\n",
    "# Create a new column of production_budget intervals:\n",
    "top4_genre_df.loc[:, 'budget_group']  = pd.cut(top4_genre_df.loc[:,'production_budget'], bins=budget_interval, labels=['<20M', '20M-50M', '50M-100M','100M-200M', '200M-300M','300M-400M','>400M'])"
   ]
  },
  {
   "cell_type": "markdown",
   "id": "99ce068a",
   "metadata": {},
   "source": [
    "Using a violin plot, the distribution of worldwide ROI and production budget is shown inclusive of all four of the highest grossing film genres. "
   ]
  },
  {
   "cell_type": "code",
   "execution_count": null,
   "id": "0b5f60e5",
   "metadata": {},
   "outputs": [],
   "source": [
    "# mapping the distribution of worldwide ROI for highest grossing genres\n",
    "# based on production budget group \n",
    "sns.violinplot(x = 'budget_group', y = 'worldwide_ROI', data = top4_genre_df)\n",
    "plt.xticks(rotation=45)\n",
    "plt.title('Relationship between worldwide ROI & budget group of top 4 genres')\n",
    "plt.xlabel('Budget Group')\n",
    "plt.ylabel('Worldwide ROI')\n",
    "plt.show()"
   ]
  },
  {
   "cell_type": "markdown",
   "id": "5a4ac60c",
   "metadata": {},
   "source": [
    "##### Analysis\n",
    "\n",
    "Because the violin plot takes into account all four genres, we can not see any significant production budget interval associated with a higher worldwide ROI. Further analysis is needed to delve deeper into each genre. "
   ]
  },
  {
   "cell_type": "markdown",
   "id": "9b6a7b6e",
   "metadata": {},
   "source": [
    "Besides, the average ROI of top 4 genres is less than 2. To give recommendation for Microsoft, we would like hypothize target ROI of for further analysis."
   ]
  },
  {
   "cell_type": "markdown",
   "id": "c3031e32",
   "metadata": {},
   "source": [
    "#### Animation Production Budget Groups & Worldwide ROI "
   ]
  },
  {
   "cell_type": "code",
   "execution_count": null,
   "id": "a87d1b66",
   "metadata": {},
   "outputs": [],
   "source": [
    "# creating a separate dataframe for animation films' production budget \n",
    "# and worldwide ROI \n",
    "animation_budget_df = top4_genre_df[top4_genre_df['each_genre']==\"Animation\"]\n",
    "animation_budget_df.head()"
   ]
  },
  {
   "cell_type": "code",
   "execution_count": null,
   "id": "ae90726b",
   "metadata": {},
   "outputs": [],
   "source": [
    "# formatting numeric columns \n",
    "animation_budget_df.describe().style.format({'runtime_minutes': '{:,.2f}','production_budget': '{:,.2f}','domestic_gross': '{:,.2f}', 'worldwide_gross': '{:,.2f}', 'international_gross': '{:,.2f}',\n",
    "       'domestic_profit': '{:,.2f}','international_profit': '{:,.2f}','worldwide_profit': '{:,.2f}','domestic_ROI': '{:.2f}','international_ROI': '{:.2f}', 'worldwide_ROI': '{:.2f}'})\n",
    " "
   ]
  },
  {
   "cell_type": "code",
   "execution_count": null,
   "id": "6009c698",
   "metadata": {
    "scrolled": true
   },
   "outputs": [],
   "source": [
    "# mapping out the distribution of worldwide ROI for animation films based \n",
    "# on their production budget group\n",
    "sns.boxplot(x = 'budget_group', y = 'worldwide_ROI' , \n",
    "            data = animation_budget_df, orient = 'v')\n",
    "plt.xticks(rotation=45)\n",
    "plt.xlabel('Production budget group($)')\n",
    "plt.ylabel('Worldwide ROI')\n",
    "plt.title('Relationship between worldwide ROI & production budget group in Animation genre')\n",
    "plt.show()"
   ]
  },
  {
   "cell_type": "markdown",
   "id": "9924ce3d",
   "metadata": {},
   "source": [
    "For animated films, production budgets between 50 million USD and 200 million USD had the highest worldwide ROI."
   ]
  },
  {
   "cell_type": "markdown",
   "id": "0b1fa060",
   "metadata": {},
   "source": [
    "#### Musical Production Budget Groups & Worldwide ROI "
   ]
  },
  {
   "cell_type": "code",
   "execution_count": null,
   "id": "8b599667",
   "metadata": {},
   "outputs": [],
   "source": [
    "musical_budget_df = top4_genre_df[top4_genre_df['each_genre']==\"Musical\"]\n",
    "musical_budget_df.head()"
   ]
  },
  {
   "cell_type": "code",
   "execution_count": null,
   "id": "4431026b",
   "metadata": {
    "scrolled": true
   },
   "outputs": [],
   "source": [
    "musical_budget_df.describe().style.format({'runtime_minutes': '{:,.2f}','production_budget': '{:,.2f}','domestic_gross': '{:,.2f}', 'worldwide_gross': '{:,.2f}', 'international_gross': '{:,.2f}',\n",
    "       'domestic_profit': '{:,.2f}','international_profit': '{:,.2f}','worldwide_profit': '{:,.2f}','domestic_ROI': '{:.2f}','international_ROI': '{:.2f}', 'worldwide_ROI': '{:.2f}'})\n",
    " "
   ]
  },
  {
   "cell_type": "code",
   "execution_count": null,
   "id": "e10a20a7",
   "metadata": {
    "scrolled": false
   },
   "outputs": [],
   "source": [
    "sns.boxplot(x = 'budget_group', y = 'worldwide_ROI' , \n",
    "            data = musical_budget_df, orient = 'v')\n",
    "plt.xticks(rotation=45)\n",
    "plt.title('Relationship between worldwide ROI & production budget group in Musical genre')\n",
    "plt.show()\n"
   ]
  },
  {
   "cell_type": "markdown",
   "id": "81c9f9a9",
   "metadata": {},
   "source": [
    "For musical films, there is not enough data to identify whether different budget groups contribute to higher worldwide ROI."
   ]
  },
  {
   "cell_type": "markdown",
   "id": "46709269",
   "metadata": {},
   "source": [
    "#### Sci-Fi Production Budget Groups & Worldwide ROI "
   ]
  },
  {
   "cell_type": "code",
   "execution_count": null,
   "id": "26de3795",
   "metadata": {
    "scrolled": true
   },
   "outputs": [],
   "source": [
    "scifi_budget_df = top4_genre_df[top4_genre_df['each_genre']==\"Sci-Fi\"]\n",
    "scifi_budget_df.head()"
   ]
  },
  {
   "cell_type": "code",
   "execution_count": null,
   "id": "e5a7b4b9",
   "metadata": {
    "scrolled": true
   },
   "outputs": [],
   "source": [
    "sns.boxplot(x = 'budget_group', y = 'worldwide_ROI' , \n",
    "            data = scifi_budget_df, orient = 'v')\n",
    "plt.xticks(rotation=45)\n",
    "plt.title('Relationship between worldwide ROI & production budget group in Sci-Fi genre')\n",
    "plt.show()\n"
   ]
  },
  {
   "cell_type": "markdown",
   "id": "9cc4491b",
   "metadata": {},
   "source": [
    "For Sci-Fi films, we see that movie with invested budget from 100M USD to 300M USD make the highest ROI median. However, notice that ones with budget below 20M USD has wider IQR, meaning that we could consider one more option to minimize our budget with highest ROI."
   ]
  },
  {
   "cell_type": "markdown",
   "id": "1218aa72",
   "metadata": {},
   "source": [
    "#### Animation Production Budget Groups & Worldwide ROI "
   ]
  },
  {
   "cell_type": "code",
   "execution_count": null,
   "id": "fb8211f5",
   "metadata": {
    "scrolled": true
   },
   "outputs": [],
   "source": [
    "adventure_budget_df = top4_genre_df[top4_genre_df['each_genre']==\"Adventure\"]\n",
    "adventure_budget_df.head()"
   ]
  },
  {
   "cell_type": "code",
   "execution_count": null,
   "id": "56a1ccda",
   "metadata": {
    "scrolled": false
   },
   "outputs": [],
   "source": [
    "sns.boxplot(x = 'budget_group', y = 'worldwide_ROI' , \n",
    "            data = scifi_budget_df, orient = 'v')\n",
    "plt.xticks(rotation=45)\n",
    "plt.title('Relationship between worldwide ROI & production budget group in Sci-Fi genre')\n",
    "plt.show()\n"
   ]
  },
  {
   "cell_type": "markdown",
   "id": "bc82a526",
   "metadata": {},
   "source": [
    "For adventure films, we see that movie with invested budget from 100M USD to 300M USD make the highest ROI median. However, notice that ones with budget below 20M USD has wider IQR, meaning that we could consider one more option to minimize our budget with highest ROI."
   ]
  },
  {
   "cell_type": "markdown",
   "id": "95aa678f",
   "metadata": {},
   "source": [
    "#### Recommendation 2 conclusion: Target on Animation with invested budget between 50M USD and 200m USD to get ROI higher than 2"
   ]
  },
  {
   "cell_type": "markdown",
   "id": "2a0fd263",
   "metadata": {},
   "source": [
    "## 3. 3rd Recommendation:"
   ]
  },
  {
   "cell_type": "markdown",
   "id": "c58108a2",
   "metadata": {},
   "source": [
    "### Popularity\n",
    "\n",
    "After identifying the highest grossing films and their worldwide ROI based on production budget group, we decided to look into the relationship between popularity and worldwide ROI."
   ]
  },
  {
   "cell_type": "code",
   "execution_count": null,
   "id": "1c92de22",
   "metadata": {},
   "outputs": [],
   "source": [
    "# creating a new dataframe to compare the four highest grossing film genres \n",
    "# and their popularity\n",
    "top4_popularity_df = film_pop_profit[film_pop_profit['each_genre'].isin(top4_genre_list)]"
   ]
  },
  {
   "cell_type": "code",
   "execution_count": null,
   "id": "66fb2afd",
   "metadata": {},
   "outputs": [],
   "source": [
    "# previewing new dataframe\n",
    "top4_popularity_df.describe()"
   ]
  },
  {
   "cell_type": "markdown",
   "id": "4074a4b4",
   "metadata": {},
   "source": [
    "The average worldwide gross across all four genres is around 400M USD, so for the purposes of our analysis, we are targeting revenues of at least 500M USD. \n",
    "\n",
    "In order to create more specific recommendation, we decided to use popularity scores to determine at what intervals popularity contributes to worldwide revenue of at least 500M USD."
   ]
  },
  {
   "cell_type": "code",
   "execution_count": null,
   "id": "3ad88d88",
   "metadata": {
    "scrolled": true
   },
   "outputs": [],
   "source": [
    "# creating intervals for popularity scores \n",
    "interval_popularity = [0,10, 20, 30, 40, float('inf')]\n",
    "\n",
    "# converting popularity column into interval ranges\n",
    "top4_popularity_df.loc[:, 'popularity_group']  = pd.cut(top4_popularity_df['popularity'], bins=interval_popularity, labels=['<10','10-20', '20-30', '30-40','>40'])"
   ]
  },
  {
   "cell_type": "code",
   "execution_count": null,
   "id": "cf59ea72",
   "metadata": {
    "scrolled": true
   },
   "outputs": [],
   "source": [
    "# previewing new dataframe\n",
    "top4_popularity_df.head(2)"
   ]
  },
  {
   "cell_type": "markdown",
   "id": "193585fe",
   "metadata": {},
   "source": [
    "#### Analyzing Popularity Groups and Worldwide ROI for 4 genres\n"
   ]
  },
  {
   "cell_type": "code",
   "execution_count": null,
   "id": "e1a015f5",
   "metadata": {
    "scrolled": false
   },
   "outputs": [],
   "source": [
    "sns.violinplot(x = 'popularity_group', y = 'worldwide_gross', data = top4_popularity_df)\n",
    "plt.xticks(rotation=45)\n",
    "plt.title('Relationship between popularity and worldwide_gross of top 4 genres')\n",
    "plt.xlabel('Popularity group')\n",
    "plt.ylabel('Worldwide ROI')\n",
    "plt.show()"
   ]
  },
  {
   "cell_type": "markdown",
   "id": "e3e54d64",
   "metadata": {},
   "source": [
    "For four highest grossing film genres, there is a slight positive relationship between popularity and worldwide ROI. More popular films have increases in the ROI. Further analysis is needed to understand how this may differ across genre. "
   ]
  },
  {
   "cell_type": "markdown",
   "id": "fd3867df",
   "metadata": {},
   "source": [
    "#### Animation: Analyzing Popularity Groups and Worldwide ROI "
   ]
  },
  {
   "cell_type": "code",
   "execution_count": null,
   "id": "1e074f88",
   "metadata": {
    "scrolled": true
   },
   "outputs": [],
   "source": [
    "animation_popularity_df = top4_popularity_df[top4_popularity_df['each_genre']==\"Animation\"]\n",
    "animation_popularity_df.head()"
   ]
  },
  {
   "cell_type": "code",
   "execution_count": null,
   "id": "43287dff",
   "metadata": {},
   "outputs": [],
   "source": [
    "animation_popularity_df.describe().style.format({'runtime_minutes': '{:,.2f}','production_budget': '{:,.2f}','domestic_gross': '{:,.2f}', 'worldwide_gross': '{:,.2f}', 'international_gross': '{:,.2f}',\n",
    "       'domestic_profit': '{:,.2f}','international_profit': '{:,.2f}','worldwide_profit': '{:,.2f}','domestic_ROI': '{:.2f}','international_ROI': '{:.2f}', 'worldwide_ROI': '{:.2f}'})\n",
    " "
   ]
  },
  {
   "cell_type": "code",
   "execution_count": null,
   "id": "57634459",
   "metadata": {
    "scrolled": false
   },
   "outputs": [],
   "source": [
    "sns.violinplot(x = 'popularity_group', y = 'worldwide_gross', data = animation_popularity_df)\n",
    "plt.xticks(rotation=45)\n",
    "plt.title('Relationship between Popularity group & gross revenue in Animation genre')\n",
    "plt.xlabel('Popularity group')\n",
    "plt.ylabel('Worldwide gross revenue')\n",
    "plt.show()"
   ]
  },
  {
   "cell_type": "markdown",
   "id": "4b78609f",
   "metadata": {},
   "source": [
    "For animation films, we can see that films that are have popularity scores of at least 20 earn increases in worldwide gross revenue. "
   ]
  },
  {
   "cell_type": "markdown",
   "id": "9ed46328",
   "metadata": {},
   "source": [
    "#### Musical: Analyzing Popularity Groups and Worldwide ROI "
   ]
  },
  {
   "cell_type": "code",
   "execution_count": null,
   "id": "43f1c6f0",
   "metadata": {},
   "outputs": [],
   "source": [
    "musical_popularity_df = top4_popularity_df[top4_popularity_df['each_genre']==\"Musical\"]\n",
    "musical_popularity_df.head()"
   ]
  },
  {
   "cell_type": "code",
   "execution_count": null,
   "id": "ebb48689",
   "metadata": {
    "scrolled": true
   },
   "outputs": [],
   "source": [
    "sns.violinplot(x = 'popularity_group', y = 'worldwide_gross', data = musical_popularity_df)\n",
    "plt.xticks(rotation=45)\n",
    "plt.title('Relationship between Popularity group & gross revenue in Musical genre')\n",
    "plt.xlabel('Popularity group')\n",
    "plt.ylabel('Worldwide gross revenue')\n",
    "plt.show()"
   ]
  },
  {
   "cell_type": "markdown",
   "id": "b4217ab3",
   "metadata": {},
   "source": [
    "For musical films, there is not enough information to determine whether there is a relationship between popularity and worldwide gross revenue."
   ]
  },
  {
   "cell_type": "markdown",
   "id": "60923401",
   "metadata": {},
   "source": [
    "#### Sci-Fi: Analyzing Popularity Groups and Worldwide ROI "
   ]
  },
  {
   "cell_type": "code",
   "execution_count": null,
   "id": "b386e125",
   "metadata": {},
   "outputs": [],
   "source": [
    "scifi_popularity_df = top4_popularity_df[top4_popularity_df['each_genre']==\"Sci-Fi\"]\n",
    "scifi_popularity_df.head()"
   ]
  },
  {
   "cell_type": "code",
   "execution_count": null,
   "id": "e689cb0e",
   "metadata": {
    "scrolled": true
   },
   "outputs": [],
   "source": [
    "sns.violinplot(x = 'popularity_group', y = 'worldwide_gross', data = scifi_popularity_df)\n",
    "plt.xticks(rotation=45)\n",
    "plt.title('Relationship between Popularity group & gross revenue in Sci-Fi genre')\n",
    "plt.xlabel('Popularity group')\n",
    "plt.ylabel('Worldwide gross revenue')\n",
    "plt.show()"
   ]
  },
  {
   "cell_type": "markdown",
   "id": "93f12cac",
   "metadata": {},
   "source": [
    "For sci-fi films, there is a relationship between popularity and worldwide gross revenue, however there increases only occur when the film has a popularity score of at least 30."
   ]
  },
  {
   "cell_type": "markdown",
   "id": "33e6bea7",
   "metadata": {},
   "source": [
    "#### Adventure: Analyzing Popularity Groups and Worldwide ROI "
   ]
  },
  {
   "cell_type": "code",
   "execution_count": null,
   "id": "ca5e7cd7",
   "metadata": {},
   "outputs": [],
   "source": [
    "adventure_popularity_df = top4_popularity_df[top4_popularity_df['each_genre']==\"Adventure\"]\n",
    "adventure_popularity_df.head()"
   ]
  },
  {
   "cell_type": "code",
   "execution_count": null,
   "id": "b433eb01",
   "metadata": {
    "scrolled": true
   },
   "outputs": [],
   "source": [
    "sns.violinplot(x = 'popularity_group', y = 'worldwide_gross', data = scifi_popularity_df)\n",
    "plt.xticks(rotation=45)\n",
    "plt.title('Relationship between Popularity group & gross revenue in Adventure genre')\n",
    "plt.xlabel('Popularity group')\n",
    "plt.ylabel('Worldwide gross revenue')\n",
    "plt.show()"
   ]
  },
  {
   "cell_type": "markdown",
   "id": "4b85f439",
   "metadata": {},
   "source": [
    "Simliar to Sci-Fi films, adventure films that have a score of at least 30 in popularity generate increases in worldwide gross revenue. "
   ]
  },
  {
   "cell_type": "markdown",
   "id": "9da2ced0",
   "metadata": {},
   "source": [
    "# Recommendations "
   ]
  },
  {
   "cell_type": "markdown",
   "id": "a47509c1",
   "metadata": {},
   "source": [
    "In conclusion, we would like to highlight that all finanacial metrics are on global view as launching movies across borders is ineviatble nowadays and focusing on domestic market will only limit the potential of getting more profit. After a thorough analysis, we came up with three recommendations for Microsoft regarding opening a movie studio:"
   ]
  },
  {
   "cell_type": "markdown",
   "id": "226e03df",
   "metadata": {},
   "source": [
    "First, target the top genres to generate highest worldwide profit, especially the top 4 as they earn 250M USD more or less while the next top genre can only gain around 150M USD."
   ]
  },
  {
   "cell_type": "markdown",
   "id": "069c767a",
   "metadata": {},
   "source": [
    "Second, Animation is the most profitable genre and still it has plenty of opportunities to maximize worldwide profit. In order for ROI to be greater than 2, invested budget should be between 50M USD and 200M USD.\n"
   ]
  },
  {
   "cell_type": "markdown",
   "id": "bb48e3a8",
   "metadata": {},
   "source": [
    "Third, focus on Animation and target worldwide revenue to be greater than 500M USD by managing popularity metric to be greater than 20 by lots of mean regarding marketing, reviews, critics and more."
   ]
  }
 ],
 "metadata": {
  "kernelspec": {
   "display_name": "Python 3 (ipykernel)",
   "language": "python",
   "name": "python3"
  },
  "language_info": {
   "codemirror_mode": {
    "name": "ipython",
    "version": 3
   },
   "file_extension": ".py",
   "mimetype": "text/x-python",
   "name": "python",
   "nbconvert_exporter": "python",
   "pygments_lexer": "ipython3",
   "version": "3.10.10"
  }
 },
 "nbformat": 4,
 "nbformat_minor": 5
}
