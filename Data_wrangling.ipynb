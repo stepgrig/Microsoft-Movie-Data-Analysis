{
 "cells": [
  {
   "cell_type": "markdown",
   "id": "cd1d1a6f",
   "metadata": {},
   "source": [
    "# Data Wrangling"
   ]
  },
  {
   "cell_type": "markdown",
   "id": "8aba662a",
   "metadata": {},
   "source": [
    "## Data set"
   ]
  },
  {
   "cell_type": "markdown",
   "id": "348adba6",
   "metadata": {},
   "source": [
    "1. Box Office Mojo\n",
    "2. The Movie DB\n",
    "3. The Numbers\n",
    "4. IMDB"
   ]
  },
  {
   "cell_type": "markdown",
   "id": "a24bf52d",
   "metadata": {},
   "source": [
    "## Import relevant libraries:"
   ]
  },
  {
   "cell_type": "code",
   "execution_count": null,
   "id": "692a74c9",
   "metadata": {},
   "outputs": [],
   "source": [
    "\n",
    "import pandas as pd\n",
    "import numpy as np\n",
    "import matplotlib.pyplot as plt\n",
    "from matplotlib import ticker\n",
    "import sqlite3\n",
    "import seaborn as sns\n",
    "%matplotlib inline"
   ]
  },
  {
   "cell_type": "markdown",
   "id": "94278626",
   "metadata": {},
   "source": [
    "## 1. Box Office Mojo dataset"
   ]
  },
  {
   "cell_type": "markdown",
   "id": "c4b3e3d8",
   "metadata": {},
   "source": [
    "Open the bom_movie"
   ]
  },
  {
   "cell_type": "code",
   "execution_count": null,
   "id": "70fb4c26",
   "metadata": {
    "scrolled": true
   },
   "outputs": [],
   "source": [
    "# Open bom_movie dataframe:\n",
    "bom_movie = pd.read_csv('zippedData/bom.movie_gross.csv')\n",
    "bom_movie.head()"
   ]
  },
  {
   "cell_type": "code",
   "execution_count": null,
   "id": "2db2bb02",
   "metadata": {},
   "outputs": [],
   "source": [
    "#Create a new column from mapping title & year:\n",
    "bom_movie['title_year'] = bom_movie.title + bom_movie['year'].astype(str)\n",
    "bom_movie.head()"
   ]
  },
  {
   "cell_type": "markdown",
   "id": "58c61dd8",
   "metadata": {},
   "source": [
    "## 2. The Movie DB dataset"
   ]
  },
  {
   "cell_type": "code",
   "execution_count": null,
   "id": "5318293c",
   "metadata": {
    "scrolled": false
   },
   "outputs": [],
   "source": [
    "# Open tmdb_movie dataframe:\n",
    "tmdb_movie = pd.read_csv('zippedData/tmdb.movies.csv')\n",
    "tmdb_movie.head()"
   ]
  },
  {
   "cell_type": "code",
   "execution_count": null,
   "id": "8244a0c1",
   "metadata": {},
   "outputs": [],
   "source": [
    "tmdb_movie.describe()"
   ]
  },
  {
   "cell_type": "code",
   "execution_count": null,
   "id": "c6f2dae7",
   "metadata": {
    "scrolled": true
   },
   "outputs": [],
   "source": [
    "#Get 'release_month' & 'release_year' from column 'release_date':\n",
    "tmdb_movie['release_month'] = tmdb_movie['release_date'].map(lambda x: pd.to_datetime(x).month)\n",
    "tmdb_movie['release_year'] = tmdb_movie['release_date'].map(lambda x: x[:4])\n",
    "tmdb_movie.head()"
   ]
  },
  {
   "cell_type": "code",
   "execution_count": null,
   "id": "06482410",
   "metadata": {
    "scrolled": true
   },
   "outputs": [],
   "source": [
    "# Create a new column from mapping title & year:\n",
    "tmdb_movie['title_year'] = tmdb_movie['title'] + tmdb_movie['release_year'].astype(str)\n",
    "tmdb_movie.head()"
   ]
  },
  {
   "cell_type": "code",
   "execution_count": null,
   "id": "4cbcd296",
   "metadata": {},
   "outputs": [],
   "source": [
    "tmdb_movie.info()"
   ]
  },
  {
   "cell_type": "markdown",
   "id": "a3b3283c",
   "metadata": {},
   "source": [
    "## 3. The Numbers dataset"
   ]
  },
  {
   "cell_type": "code",
   "execution_count": null,
   "id": "57c0226d",
   "metadata": {
    "scrolled": true
   },
   "outputs": [],
   "source": [
    "#Open tn_movie dataframe:\n",
    "tn_movie = pd.read_csv('zippedData/tn.movie_budgets.csv')\n",
    "tn_movie.head()"
   ]
  },
  {
   "cell_type": "code",
   "execution_count": null,
   "id": "b99744dc",
   "metadata": {
    "scrolled": false
   },
   "outputs": [],
   "source": [
    "# Get 'release_month' & 'release_year' from release_date and create new columns:\n",
    "tn_movie['release_month'] = tn_movie['release_date'].map(lambda x: pd.to_datetime(x).month)\n",
    "tn_movie['release_year'] = tn_movie['release_date'].map(lambda x: x[-4:])\n",
    "tn_movie.head()"
   ]
  },
  {
   "cell_type": "code",
   "execution_count": null,
   "id": "475c47c2",
   "metadata": {},
   "outputs": [],
   "source": [
    "# Create a new column from mapping 2 columns 'movie' & 'release_year':\n",
    "tn_movie['movie_year'] = tn_movie['movie'] + tn_movie['release_year'].astype(str)"
   ]
  },
  {
   "cell_type": "code",
   "execution_count": null,
   "id": "b9f2cb18",
   "metadata": {},
   "outputs": [],
   "source": [
    "tn_movie.head()"
   ]
  },
  {
   "cell_type": "code",
   "execution_count": null,
   "id": "4e65c855",
   "metadata": {},
   "outputs": [],
   "source": [
    "tn_movie.shape"
   ]
  },
  {
   "cell_type": "code",
   "execution_count": null,
   "id": "eaf7d65a",
   "metadata": {},
   "outputs": [],
   "source": [
    "# Turn production_budget value in numeric values:\n",
    "tn_movie[\"production_budget\"] = [str(i).replace(\"$\", \"\") for i in tn_movie[\"production_budget\"]]\n",
    "tn_movie[\"production_budget\"] = [float(str(i).replace(\",\", \"\")) for i in tn_movie[\"production_budget\"]]"
   ]
  },
  {
   "cell_type": "code",
   "execution_count": null,
   "id": "e26c379e",
   "metadata": {},
   "outputs": [],
   "source": [
    "# Turn domestic_gross value in numeric values:\n",
    "tn_movie[\"domestic_gross\"] = [str(i).replace(\"$\", \"\") for i in tn_movie[\"domestic_gross\"]]\n",
    "tn_movie[\"domestic_gross\"] = [float(str(i).replace(\",\", \"\")) for i in tn_movie[\"domestic_gross\"]]\n"
   ]
  },
  {
   "cell_type": "code",
   "execution_count": null,
   "id": "60e55b6e",
   "metadata": {},
   "outputs": [],
   "source": [
    "# Turn worldwide_gross value in numeric values:\n",
    "tn_movie[\"worldwide_gross\"] = [str(i).replace(\"$\", \"\") for i in tn_movie[\"worldwide_gross\"]]\n",
    "tn_movie[\"worldwide_gross\"] = [float(str(i).replace(\",\", \"\")) for i in tn_movie[\"worldwide_gross\"]]"
   ]
  },
  {
   "cell_type": "code",
   "execution_count": null,
   "id": "ad6089bd",
   "metadata": {},
   "outputs": [],
   "source": [
    "#Create 7 new columns of gross revenue, profit & ROI:\n",
    "tn_movie['international_gross'] = tn_movie.worldwide_gross - tn_movie.domestic_gross\n",
    "tn_movie['domestic_profit'] = tn_movie.domestic_gross - tn_movie.production_budget\n",
    "tn_movie['international_profit'] = tn_movie.international_gross - tn_movie.production_budget\n",
    "tn_movie['worldwide_profit'] = tn_movie.worldwide_gross - tn_movie.production_budget\n",
    "tn_movie['domestic_ROI'] = (tn_movie.domestic_gross - tn_movie.production_budget)/tn_movie.production_budget\n",
    "tn_movie['international_ROI'] = (tn_movie.international_gross - tn_movie.production_budget)/tn_movie.production_budget\n",
    "tn_movie['worldwide_ROI'] = (tn_movie.worldwide_gross - tn_movie.production_budget)/tn_movie.production_budget"
   ]
  },
  {
   "cell_type": "code",
   "execution_count": null,
   "id": "446c1402",
   "metadata": {
    "scrolled": true
   },
   "outputs": [],
   "source": [
    "tn_movie.head()"
   ]
  },
  {
   "cell_type": "code",
   "execution_count": null,
   "id": "7ea2f2d0",
   "metadata": {},
   "outputs": [],
   "source": [
    "tn_movie.info()"
   ]
  },
  {
   "cell_type": "markdown",
   "id": "00b4743f",
   "metadata": {},
   "source": [
    "## 4. IMDB dataset"
   ]
  },
  {
   "cell_type": "code",
   "execution_count": null,
   "id": "954ffea1",
   "metadata": {},
   "outputs": [],
   "source": [
    "con = sqlite3.connect('zippedData/im.db')\n",
    "cursor_obj = con.cursor()"
   ]
  },
  {
   "cell_type": "code",
   "execution_count": null,
   "id": "c75b46b4",
   "metadata": {},
   "outputs": [],
   "source": [
    "%%bash \n",
    "\n",
    "sqlite3 zippedData/im.db\n",
    ".tables"
   ]
  },
  {
   "cell_type": "code",
   "execution_count": null,
   "id": "4ed6f249",
   "metadata": {
    "scrolled": false
   },
   "outputs": [],
   "source": [
    "#Open movie_basics dataframe:\n",
    "movie_basics_df = pd.read_sql(\"\"\"\n",
    "SELECT *\n",
    "FROM movie_basics\n",
    "\"\"\", con)\n",
    "movie_basics_df.head()"
   ]
  },
  {
   "cell_type": "markdown",
   "id": "60102601",
   "metadata": {},
   "source": [
    "### 4.1. Open directors dataframe:"
   ]
  },
  {
   "cell_type": "code",
   "execution_count": null,
   "id": "edab85bf",
   "metadata": {},
   "outputs": [],
   "source": [
    "# Create a new column from mapping 'primary_title' & 'year'\n",
    "movie_basics_df['title_year'] = movie_basics_df['primary_title'] + movie_basics_df['start_year'].astype(str)\n",
    "movie_basics_df.head()"
   ]
  },
  {
   "cell_type": "markdown",
   "id": "0b0675bf",
   "metadata": {},
   "source": [
    "## Merging data"
   ]
  },
  {
   "cell_type": "markdown",
   "id": "6ba80621",
   "metadata": {},
   "source": [
    "Merge 'tn_movie' dataframe with 'movie_basics' basing on 'movie_year' & 'title_year' \n",
    "to link genres with financial metrics:"
   ]
  },
  {
   "cell_type": "code",
   "execution_count": null,
   "id": "3c9ca8cc",
   "metadata": {
    "scrolled": true
   },
   "outputs": [],
   "source": [
    "movie_profit_genre = pd.merge(tn_movie, movie_basics_df, left_on = \"movie_year\",right_on =\"title_year\", how = \"inner\" )\n",
    "movie_profit_genre.head()"
   ]
  },
  {
   "cell_type": "code",
   "execution_count": null,
   "id": "9a761b8d",
   "metadata": {
    "scrolled": true
   },
   "outputs": [],
   "source": [
    "movie_profit_genre.info()"
   ]
  },
  {
   "cell_type": "code",
   "execution_count": null,
   "id": "cf5fe1e3",
   "metadata": {
    "scrolled": false
   },
   "outputs": [],
   "source": [
    "#Copy \"genres\" column and create a new column called \"each_genre\"\n",
    "movie_profit_genre.loc[:, 'each_genre'] = movie_profit_genre['genres'].copy()\n",
    "movie_profit_genre.head()"
   ]
  },
  {
   "cell_type": "markdown",
   "id": "dfa8174c",
   "metadata": {},
   "source": [
    "Sort string in \"genres\" columns in anphabet order:"
   ]
  },
  {
   "cell_type": "code",
   "execution_count": null,
   "id": "f0e8075b",
   "metadata": {
    "scrolled": true
   },
   "outputs": [],
   "source": [
    "\n",
    "movie_profit_genre.loc[:, 'genres'] = movie_profit_genre['genres'].apply(lambda x: ', '.join(sorted(x.split(', '))) if x is not None else '')\n",
    "\n",
    "movie_profit_genre.info()"
   ]
  },
  {
   "cell_type": "code",
   "execution_count": null,
   "id": "205e3b5f",
   "metadata": {
    "scrolled": true
   },
   "outputs": [],
   "source": [
    "movie_profit_genre.columns"
   ]
  },
  {
   "cell_type": "markdown",
   "id": "397f1068",
   "metadata": {},
   "source": [
    "Split \"genres\" into single genre, from 1 row into multiple rows:"
   ]
  },
  {
   "cell_type": "code",
   "execution_count": null,
   "id": "3fb63a6d",
   "metadata": {
    "scrolled": false
   },
   "outputs": [],
   "source": [
    "movie_genres = movie_profit_genre.set_index(['id', 'release_date', 'movie', 'production_budget', 'domestic_gross',\n",
    "       'worldwide_gross', 'release_month', 'release_year', 'movie_year',\n",
    "       'international_gross', 'domestic_profit', 'international_profit',\n",
    "       'worldwide_profit', 'domestic_ROI', 'international_ROI',\n",
    "       'worldwide_ROI', 'movie_id', 'primary_title', 'original_title',\n",
    "       'start_year', 'runtime_minutes', 'genres', 'title_year']).apply(lambda x: x.str.split(',').explode()).reset_index()\n",
    "movie_genres.head()"
   ]
  },
  {
   "cell_type": "markdown",
   "id": "f93c4b19",
   "metadata": {},
   "source": [
    "Calculate mean of all financial metrics of each genre"
   ]
  },
  {
   "cell_type": "code",
   "execution_count": null,
   "id": "362ba679",
   "metadata": {
    "scrolled": false
   },
   "outputs": [],
   "source": [
    "mean_profit_genre = movie_genres.groupby('each_genre').mean(numeric_only = True).sort_values('worldwide_profit',ascending = False)\n",
    "mean_profit_genre.style.format({'runtime_minutes': '{:,.2f}','production_budget': '{:,.2f}','domestic_gross': '{:,.2f}', 'worldwide_gross': '{:,.2f}', 'international_gross': '{:,.2f}',\n",
    "       'domestic_profit': '{:,.2f}','international_profit': '{:,.2f}','worldwide_profit': '{:,.2f}','domestic_ROI': '{:.2f}','international_ROI': '{:.2f}', 'worldwide_ROI': '{:.2f}'})\n",
    " "
   ]
  },
  {
   "cell_type": "markdown",
   "id": "6ac3c846",
   "metadata": {},
   "source": [
    "Top 4 genre by worldwide profit:"
   ]
  },
  {
   "cell_type": "code",
   "execution_count": null,
   "id": "354de523",
   "metadata": {},
   "outputs": [],
   "source": [
    "top4_genre_profit = mean_profit_genre.head(4)\n",
    "top4_genre_profit.style.format({'runtime_minutes': '{:,.2f}','production_budget': '{:,.2f}','domestic_gross': '{:,.2f}', 'worldwide_gross': '{:,.2f}', 'international_gross': '{:,.2f}',\n",
    "       'domestic_profit': '{:,.2f}','international_profit': '{:,.2f}','worldwide_profit': '{:,.2f}','domestic_ROI': '{:.2f}','international_ROI': '{:.2f}', 'worldwide_ROI': '{:.2f}'})"
   ]
  },
  {
   "cell_type": "code",
   "execution_count": null,
   "id": "6763ada3",
   "metadata": {},
   "outputs": [],
   "source": [
    "#List of top 4 genre list by worldwide profit:\n",
    "top4_genre_list = list(top4_genre_profit.index)\n",
    "top4_genre_list"
   ]
  },
  {
   "cell_type": "markdown",
   "id": "b2eeaf82",
   "metadata": {},
   "source": [
    "Filter dataframe including top 4 genres"
   ]
  },
  {
   "cell_type": "code",
   "execution_count": null,
   "id": "577f1bb6",
   "metadata": {
    "scrolled": false
   },
   "outputs": [],
   "source": [
    "top4_genre_df = movie_genres.loc[movie_genres['each_genre'].isin(top4_genre_list)]\n",
    "top4_genre_df.head().style.format({'runtime_minutes': '{:,.2f}','production_budget': '{:,.2f}','domestic_gross': '{:,.2f}', 'worldwide_gross': '{:,.2f}', 'international_gross': '{:,.2f}',\n",
    "       'domestic_profit': '{:,.2f}','international_profit': '{:,.2f}','worldwide_profit': '{:,.2f}','domestic_ROI': '{:.2f}','international_ROI': '{:.2f}', 'worldwide_ROI': '{:.2f}'})\n",
    " "
   ]
  },
  {
   "cell_type": "markdown",
   "id": "64a41a71",
   "metadata": {},
   "source": [
    "Indentify the mean, min, max of each financial metrics in top 4 genres:"
   ]
  },
  {
   "cell_type": "code",
   "execution_count": null,
   "id": "14589b83",
   "metadata": {
    "scrolled": true
   },
   "outputs": [],
   "source": [
    "top4_genre_df.describe().style.format({'runtime_minutes': '{:,.2f}','production_budget': '{:,.2f}','domestic_gross': '{:,.2f}', 'worldwide_gross': '{:,.2f}', 'international_gross': '{:,.2f}',\n",
    "       'domestic_profit': '{:,.2f}','international_profit': '{:,.2f}','worldwide_profit': '{:,.2f}','domestic_ROI': '{:.2f}','international_ROI': '{:.2f}', 'worldwide_ROI': '{:.2f}'})\n",
    " "
   ]
  },
  {
   "cell_type": "code",
   "execution_count": null,
   "id": "99a4608e",
   "metadata": {
    "scrolled": true
   },
   "outputs": [],
   "source": [
    "#Create intervals of production budget:\n",
    "budget_interval = [0,20000000, 50000000, 100000000,200000000,300000000,400000000, float('inf')]\n",
    "#Create a new column of production_budget intervals:\n",
    "top4_genre_df.loc[:, 'budget_group']  = pd.cut(top4_genre_df.loc[:,'production_budget'], bins=budget_interval, labels=['<20M', '20M-50M', '50M-100M','100M-200M', '200M-300M','300M-400M','>400M'])"
   ]
  },
  {
   "cell_type": "code",
   "execution_count": null,
   "id": "5199a741",
   "metadata": {
    "scrolled": false
   },
   "outputs": [],
   "source": [
    "top4_genre_df.head()"
   ]
  },
  {
   "cell_type": "markdown",
   "id": "f8d8f79a",
   "metadata": {},
   "source": [
    "Use violin plot to find the correlation between worldwide ROI & production budget group:"
   ]
  },
  {
   "cell_type": "markdown",
   "id": "fbb81cfc",
   "metadata": {},
   "source": [
    "#### Merge table to get Popularity & financial metrics & genres"
   ]
  },
  {
   "cell_type": "markdown",
   "id": "5bcaf0ca",
   "metadata": {},
   "source": [
    "Merge 'tn_movie' & 'tmdb_movie' dataframes to get popularity and ROI"
   ]
  },
  {
   "cell_type": "code",
   "execution_count": null,
   "id": "73e3c1b6",
   "metadata": {
    "scrolled": true
   },
   "outputs": [],
   "source": [
    "popularity_ROI = pd.merge(tn_movie,tmdb_movie, left_on = \"movie_year\", right_on = 'title_year', how = 'inner')\n",
    "popularity_ROI.info()"
   ]
  },
  {
   "cell_type": "markdown",
   "id": "1e2dcbb8",
   "metadata": {},
   "source": [
    "Merge 'popularity_ROI' & 'movie_basics_df' dataframes to get genres information"
   ]
  },
  {
   "cell_type": "code",
   "execution_count": null,
   "id": "4130d1ec",
   "metadata": {},
   "outputs": [],
   "source": [
    "popularity_ROI_genres = pd.merge(popularity_ROI,movie_basics_df, left_on = \"movie_year\",right_on = 'title_year', how = 'inner')"
   ]
  },
  {
   "cell_type": "code",
   "execution_count": null,
   "id": "448b1f3b",
   "metadata": {},
   "outputs": [],
   "source": [
    "popularity_ROI_genres.info()"
   ]
  },
  {
   "cell_type": "code",
   "execution_count": null,
   "id": "605b294a",
   "metadata": {},
   "outputs": [],
   "source": [
    "#Sort string in \"genres\" columns in anphabet order:\n",
    "popularity_ROI_genres.loc[:, 'genres'] = popularity_ROI_genres['genres'].apply(lambda x: ', '.join(sorted(x.split(', '))) if x is not None else '')\n",
    "popularity_ROI_genres.head()"
   ]
  },
  {
   "cell_type": "code",
   "execution_count": null,
   "id": "0ddad4ef",
   "metadata": {
    "scrolled": true
   },
   "outputs": [],
   "source": [
    "#Copy \"genres\" column and create a new column called \"each_genre\"\n",
    "popularity_ROI_genres.loc[:, 'each_genre'] = popularity_ROI_genres['genres'].copy()\n",
    "popularity_ROI_genres.head()"
   ]
  },
  {
   "cell_type": "code",
   "execution_count": null,
   "id": "5b48f6b2",
   "metadata": {},
   "outputs": [],
   "source": [
    "popularity_ROI_genres.describe().style.format({'runtime_minutes': '{:,.2f}','production_budget': '{:,.2f}','domestic_gross': '{:,.2f}', 'worldwide_gross': '{:,.2f}', 'international_gross': '{:,.2f}',\n",
    "       'domestic_profit': '{:,.2f}','international_profit': '{:,.2f}','worldwide_profit': '{:,.2f}','domestic_ROI': '{:.2f}','international_ROI': '{:.2f}', 'worldwide_ROI': '{:.2f}'})"
   ]
  },
  {
   "cell_type": "code",
   "execution_count": null,
   "id": "bd5f0ed0",
   "metadata": {
    "scrolled": true
   },
   "outputs": [],
   "source": [
    "#Split \"each_genre\" row into multiple rows:\n",
    "popularity_ROI_each_genre = popularity_ROI_genres.set_index(['id_x', 'release_date_x', 'movie', 'production_budget',\n",
    "       'domestic_gross', 'worldwide_gross', 'release_month_x',\n",
    "       'release_year_x', 'movie_year', 'international_gross',\n",
    "       'domestic_profit', 'international_profit', 'worldwide_profit',\n",
    "       'domestic_ROI', 'international_ROI', 'worldwide_ROI', 'Unnamed: 0',\n",
    "       'genre_ids', 'id_y', 'original_language', 'original_title_x',\n",
    "       'popularity', 'release_date_y', 'title', 'vote_average', 'vote_count',\n",
    "       'release_month_y', 'release_year_y', 'title_year_x', 'movie_id',\n",
    "       'primary_title', 'original_title_y', 'start_year', 'runtime_minutes',\n",
    "       'genres', 'title_year_y']).apply(lambda x: x.str.split(',').explode()).reset_index()\n",
    "popularity_ROI_each_genre.head()"
   ]
  },
  {
   "cell_type": "markdown",
   "id": "a353fe30",
   "metadata": {},
   "source": [
    "Filter 'popularity_ROI_each_genre' dataframe to get top 4 genres"
   ]
  },
  {
   "cell_type": "code",
   "execution_count": null,
   "id": "6052499b",
   "metadata": {},
   "outputs": [],
   "source": [
    "top4_genre_list"
   ]
  },
  {
   "cell_type": "code",
   "execution_count": null,
   "id": "af4b46b6",
   "metadata": {},
   "outputs": [],
   "source": [
    "top4_popularity_df = popularity_ROI_each_genre[popularity_ROI_each_genre['each_genre'].isin(top4_genre_list)]"
   ]
  },
  {
   "cell_type": "code",
   "execution_count": null,
   "id": "cd92a5d2",
   "metadata": {
    "scrolled": true
   },
   "outputs": [],
   "source": [
    "top4_popularity_df.head()"
   ]
  },
  {
   "cell_type": "markdown",
   "id": "0bce3155",
   "metadata": {},
   "source": [
    "Create intervals of popularity:"
   ]
  },
  {
   "cell_type": "code",
   "execution_count": null,
   "id": "da06eef8",
   "metadata": {},
   "outputs": [],
   "source": [
    "\n",
    "interval_popularity = [0,10, 20, 30, 40, float('inf')]\n",
    "top4_popularity_df.loc[:, 'popularity_group']  = pd.cut(top4_popularity_df['popularity'], bins=interval_popularity, labels=['<10','10-20', '20-30', '30-40','>40'])"
   ]
  },
  {
   "cell_type": "code",
   "execution_count": null,
   "id": "12843791",
   "metadata": {
    "scrolled": true
   },
   "outputs": [],
   "source": [
    "top4_popularity_df.head()"
   ]
  },
  {
   "cell_type": "markdown",
   "id": "410ba505",
   "metadata": {},
   "source": [
    "# Conclusion:"
   ]
  },
  {
   "cell_type": "markdown",
   "id": "d2e635b7",
   "metadata": {},
   "source": [
    "1st dataframe: to get each_genre & financial metrics"
   ]
  },
  {
   "cell_type": "code",
   "execution_count": null,
   "id": "b9c3a1f6",
   "metadata": {},
   "outputs": [],
   "source": [
    "movie_genres.to_csv('zippedData/movie_genres_cleaned')"
   ]
  },
  {
   "cell_type": "code",
   "execution_count": null,
   "id": "44d53fe4",
   "metadata": {},
   "outputs": [],
   "source": [
    "pd.read_csv('zippedData/movie_genres_cleaned')"
   ]
  },
  {
   "cell_type": "markdown",
   "id": "180dc7ac",
   "metadata": {},
   "source": [
    "2nd dataframe: to get popularity, genres & financial metrics:"
   ]
  },
  {
   "cell_type": "code",
   "execution_count": null,
   "id": "29e99b49",
   "metadata": {},
   "outputs": [],
   "source": [
    "popularity_ROI_each_genre.to_csv('zippedData/cleaned_popularity_profit_data')"
   ]
  },
  {
   "cell_type": "code",
   "execution_count": null,
   "id": "e72290a0",
   "metadata": {},
   "outputs": [],
   "source": [
    "pd.read_csv('zippedData/cleaned_popularity_profit_data')"
   ]
  }
 ],
 "metadata": {
  "kernelspec": {
   "display_name": "Python 3 (ipykernel)",
   "language": "python",
   "name": "python3"
  },
  "language_info": {
   "codemirror_mode": {
    "name": "ipython",
    "version": 3
   },
   "file_extension": ".py",
   "mimetype": "text/x-python",
   "name": "python",
   "nbconvert_exporter": "python",
   "pygments_lexer": "ipython3",
   "version": "3.10.10"
  }
 },
 "nbformat": 4,
 "nbformat_minor": 5
}
